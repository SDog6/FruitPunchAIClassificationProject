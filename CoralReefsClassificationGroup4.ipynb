{
  "nbformat": 4,
  "nbformat_minor": 0,
  "metadata": {
    "colab": {
      "name": "CoralReefsClassificationGroup4.ipynb",
      "provenance": [],
      "collapsed_sections": [],
      "mount_file_id": "1-6PoXbAC6cd0Au0x_4EhLgnk2psre-il",
      "authorship_tag": "ABX9TyOPfG1wLxvCawmDQDEu16ke",
      "include_colab_link": true
    },
    "kernelspec": {
      "name": "python3",
      "display_name": "Python 3"
    },
    "language_info": {
      "name": "python"
    },
    "accelerator": "GPU",
    "gpuClass": "standard"
  },
  "cells": [
    {
      "cell_type": "markdown",
      "metadata": {
        "id": "view-in-github",
        "colab_type": "text"
      },
      "source": [
        "<a href=\"https://colab.research.google.com/github/SDog6/FruitPunchAIClassificationProject/blob/main/CoralReefsClassificationGroup4.ipynb\" target=\"_parent\"><img src=\"https://colab.research.google.com/assets/colab-badge.svg\" alt=\"Open In Colab\"/></a>"
      ]
    },
    {
      "cell_type": "code",
      "execution_count": 40,
      "metadata": {
        "id": "wBH_LXakZzy1"
      },
      "outputs": [],
      "source": [
        "import tensorflow as tf\n",
        "import pandas as pd\n",
        "import numpy as np\n",
        "import seaborn as sns \n",
        "from matplotlib import pyplot as plt\n",
        "from google.colab import drive\n",
        "import cv2 as cv\n",
        "from tqdm import tqdm\n",
        "import os\n",
        "\n"
      ]
    },
    {
      "cell_type": "code",
      "source": [
        "drive.mount('/content/drive')"
      ],
      "metadata": {
        "colab": {
          "base_uri": "https://localhost:8080/"
        },
        "id": "67H4HSzicleM",
        "outputId": "efa385ed-83bc-4c7f-c35c-c1ea18f2765a"
      },
      "execution_count": 14,
      "outputs": [
        {
          "output_type": "stream",
          "name": "stdout",
          "text": [
            "Drive already mounted at /content/drive; to attempt to forcibly remount, call drive.mount(\"/content/drive\", force_remount=True).\n",
            "[Errno 2] No such file or directory: '/gdrive'\n",
            "/content\n"
          ]
        }
      ]
    },
    {
      "cell_type": "code",
      "source": [
        "path = '/content/drive/MyDrive/Data/IND_MDV'"
      ],
      "metadata": {
        "id": "z7o9pa59eE14"
      },
      "execution_count": 37,
      "outputs": []
    },
    {
      "cell_type": "code",
      "source": [
        "AllImgs = []"
      ],
      "metadata": {
        "id": "LOw63HXdmwoh"
      },
      "execution_count": 43,
      "outputs": []
    },
    {
      "cell_type": "code",
      "source": [
        "for file in tqdm(os.listdir(path)):\n",
        "  imgs = cv.imread(file)\n",
        "  AllImgs.append(imgs)\n",
        "len(AllImgs)"
      ],
      "metadata": {
        "colab": {
          "base_uri": "https://localhost:8080/"
        },
        "id": "mmLg5nl5fwN1",
        "outputId": "98780418-eeeb-4167-e123-67a1bed35d71"
      },
      "execution_count": 44,
      "outputs": [
        {
          "output_type": "stream",
          "name": "stderr",
          "text": [
            "100%|██████████| 1612/1612 [00:00<00:00, 222591.54it/s]\n"
          ]
        },
        {
          "output_type": "execute_result",
          "data": {
            "text/plain": [
              "1612"
            ]
          },
          "metadata": {},
          "execution_count": 44
        }
      ]
    },
    {
      "cell_type": "code",
      "source": [
        ""
      ],
      "metadata": {
        "id": "EdetlPUBlbM8"
      },
      "execution_count": null,
      "outputs": []
    }
  ]
}